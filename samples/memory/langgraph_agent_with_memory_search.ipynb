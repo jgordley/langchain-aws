{
 "cells": [
  {
   "cell_type": "markdown",
   "id": "06c698fd-5655-4b0c-a10b-486fe27ee869",
   "metadata": {},
   "source": [
    "# LangGraph Agent with Bedrock AgentCore Memory User Preference Retrieval\n",
    "\n",
    "This notebook walks through creating a simple LangGraph agent with a chatbot (llm) node and a memory retrieval node.\n",
    "\n",
    "This agent integrates with Amazon Bedrock Agentcore Memory to retrieve messages using semantic search so that the agent can use context from previous conversations and user preferences to help the user.\n",
    "\n",
    "For this example, an Agentcore Memory was created with two strategies\n",
    "- `Summarization` - Summarizes past conversations, then embeds them for later retrieval\n",
    "- `User Preferences` - Extracts user preferences from past conversations\n",
    "\n",
    "A tool is created for each namespace using the `create_retrieve_memory_tool` tool factory, then the agent is instructed to search the long term memories in the system prompt before clarifying preferences or past conversations with the user. This way, the agent can learn the user's preferences and more information to more accurately assist them.\n",
    "\n",
    "### Pre-requisites for this sample\n",
    "- Amazon Web Services account\n",
    "- Amazon Bedrock Agentcore Memory configured - https://docs.aws.amazon.com/bedrock-agentcore/latest/devguide/memory-getting-started.html#memory-getting-started-create-memory\n",
    "- Amazon Bedrock model access - https://docs.aws.amazon.com/bedrock/latest/userguide/model-access.html\n"
   ]
  },
  {
   "cell_type": "code",
   "execution_count": 1,
   "id": "b801204e-fdfb-402c-bf29-4a4c6759f811",
   "metadata": {},
   "outputs": [],
   "source": [
    "from langchain_aws import ChatBedrockConverse\n",
    "\n",
    "from typing import Annotated\n",
    "from typing_extensions import TypedDict\n",
    "\n",
    "from langgraph.graph import StateGraph, START, END\n",
    "from langgraph.graph.message import add_messages\n",
    "\n",
    "from langgraph.checkpoint.memory import InMemorySaver\n",
    "from langgraph.prebuilt import ToolNode, tools_condition\n",
    "\n",
    "from langchain_core.messages import SystemMessage\n",
    "\n",
    "from langchain_aws.memory.bedrock_agentcore import (\n",
    "    store_agentcore_memory_events,\n",
    "    list_agentcore_memory_events,\n",
    "    create_retrieve_memory_tool,\n",
    ")\n",
    "\n",
    "from bedrock_agentcore.memory import MemoryClient\n",
    "\n",
    "config = {\"configurable\": {\"thread_id\": \"1\"}}\n",
    "memory = InMemorySaver()\n",
    "\n",
    "llm = ChatBedrockConverse(\n",
    "    model=\"us.anthropic.claude-3-7-sonnet-20250219-v1:0\",\n",
    "    max_tokens=5000,\n",
    "    region_name=\"us-west-2\"\n",
    ")"
   ]
  },
  {
   "cell_type": "markdown",
   "id": "4e8f3d89-8698-4fab-8224-d0a4d0f78b8a",
   "metadata": {},
   "source": [
    "## Configure Agentcore Memory\n",
    "\n",
    "AgentCore short-term memories are organized by a Memory ID (overall memory store) and then categorized by Actor ID (i.e which user) and Session ID (which chat session). \n",
    "\n",
    "Long term memories are stored in namespaces. By configuring different strategies (i.e. Summarization, User Preferences) these short term memories are processed async as long term memories in the specified namespace. We will create a separate search tool for each namespace to differentiate between `UserPreferences` and `Summaries`. The tool factories ensure that the LLM will only have to worry about sending the query and limit for searching memories and not worry about any of the configuration IDs."
   ]
  },
  {
   "cell_type": "code",
   "execution_count": 8,
   "id": "56d202fb-7cb0-4a1b-b7cd-458369d4b691",
   "metadata": {},
   "outputs": [],
   "source": [
    "REGION = \"us-west-2\"\n",
    "MEMORY_ID = \"MEMORY_ID\"\n",
    "SESSION_ID = \"session-5\"\n",
    "ACTOR_ID = \"user-1\"\n",
    "\n",
    "SUMMARY_NAMESPACE = f\"/summaries/{ACTOR_ID}/{SESSION_ID}\"\n",
    "USER_PREFERENCES_NAMESPACE = f\"/userPreferences/{ACTOR_ID}/{SESSION_ID}\"\n",
    "\n",
    "# Initialize the memory client\n",
    "memory_client = MemoryClient(region_name=REGION)"
   ]
  },
  {
   "cell_type": "code",
   "execution_count": 3,
   "id": "0d7f6172-b13a-45c7-9e97-753509a9ef6a",
   "metadata": {},
   "outputs": [],
   "source": [
    "summary_search_tool = create_retrieve_memory_tool(\n",
    "    memory_client=memory_client,\n",
    "    memory_id=MEMORY_ID,\n",
    "    namespace=SUMMARY_NAMESPACE,\n",
    "    tool_name=\"retrieve_summary_memory\",\n",
    "    tool_description=\"Search for summaries of past interactions to get information relevant to a query\",\n",
    ")\n",
    "\n",
    "user_preferences_search_tool = create_retrieve_memory_tool(\n",
    "    memory_client=memory_client,\n",
    "    memory_id=MEMORY_ID,\n",
    "    namespace=USER_PREFERENCES_NAMESPACE,\n",
    "    tool_name=\"retrieve_user_preferences\",\n",
    "    tool_description=\"Search for past user preferences related to a current query\",\n",
    ")\n",
    "\n",
    "memory_search_tools = [summary_search_tool, user_preferences_search_tool]"
   ]
  },
  {
   "cell_type": "code",
   "execution_count": 4,
   "id": "960e113b-ccfd-473a-9be4-eec5e1eac004",
   "metadata": {},
   "outputs": [],
   "source": [
    "config = {\"configurable\": {\"thread_id\": \"1\"}}\n",
    "memory = InMemorySaver()\n",
    "\n",
    "class State(TypedDict):\n",
    "    messages: Annotated[list, add_messages]"
   ]
  },
  {
   "cell_type": "code",
   "execution_count": 5,
   "id": "9eb49712-e25b-4c35-ab4b-8196c7842623",
   "metadata": {},
   "outputs": [
    {
     "data": {
      "image/png": "[encoded data removed]",
      "text/plain": [
       "<langgraph.graph.state.CompiledStateGraph object at 0x113816c50>"
      ]
     },
     "execution_count": 5,
     "metadata": {},
     "output_type": "execute_result"
    }
   ],
   "source": [
    "# Bind tools to LLM\n",
    "llm_with_tools = llm.bind_tools(memory_search_tools)\n",
    "\n",
    "def chatbot(state: State):\n",
    "    response = llm_with_tools.invoke(state[\"messages\"])\n",
    "    return {\"messages\": state[\"messages\"] + [response]}\n",
    "\n",
    "def starting_system_prompt(state: State):\n",
    "    system_prompt = \"\"\"You are a helpful chatbot. You have a built up knowledge store of user preferences from past conversations, \n",
    "so if the user asks something that requires pre-requisite knowledge, before clarifying with the user or asking\n",
    "them for information, check your user preferences to see if that information is present. \n",
    "\n",
    "Similarly, if the user asks about a previous conversation topic, check the summary tool to see if that information is\n",
    "stored before asking the user for more clarity.\n",
    "\n",
    "As a rule of thumb, most of the time if the user is asking about something you don't know, check the memory before asking.\n",
    "\"\"\" \n",
    "    return {\"messages\": SystemMessage(system_prompt)}\n",
    "    \n",
    "\n",
    "# Build graph\n",
    "graph_builder = StateGraph(State)\n",
    "graph_builder.add_node(\"system_prompt\", starting_system_prompt)\n",
    "graph_builder.add_node(\"chatbot\", chatbot)\n",
    "\n",
    "retrieve_memory_node = ToolNode(tools=memory_search_tools)\n",
    "graph_builder.add_node(\"retrieve_memory\", retrieve_memory_node)\n",
    "\n",
    "graph_builder.add_edge(\"retrieve_memory\", \"chatbot\")\n",
    "graph_builder.add_edge(START, \"system_prompt\")\n",
    "graph_builder.add_edge(\"system_prompt\", \"chatbot\")\n",
    "graph_builder.add_conditional_edges(\n",
    "    \"chatbot\", tools_condition, {\"tools\": \"retrieve_memory\", \"__end__\": \"__end__\"}\n",
    ")\n",
    "\n",
    "graph = graph_builder.compile(checkpointer=memory)\n",
    "graph"
   ]
  },
  {
   "cell_type": "code",
   "execution_count": 6,
   "id": "b29573af-9fd0-460a-a5e9-52c72cc1663f",
   "metadata": {},
   "outputs": [],
   "source": [
    "# Helper function to invoke the chatbot\n",
    "def chat(user_input: str):\n",
    "    \"\"\"Send a message to the chatbot and display the response\"\"\"\n",
    "    events = graph.stream(\n",
    "        {\"messages\": [{\"role\": \"user\", \"content\": user_input}]},\n",
    "        config,\n",
    "        stream_mode=\"values\",\n",
    "    )\n",
    "    \n",
    "    for event in events:\n",
    "        # Print the last message (which will be the response)\n",
    "        event[\"messages\"][-1].pretty_print()"
   ]
  },
  {
   "cell_type": "code",
   "execution_count": 7,
   "id": "eda04678-0584-449c-8a10-24cbcff4ea49",
   "metadata": {},
   "outputs": [
    {
     "name": "stdout",
     "output_type": "stream",
     "text": [
      "================================\u001b[1m Human Message \u001b[0m=================================\n",
      "\n",
      "Hey claude, I'm off to my favorite coffee shop. Can you give me the latest updates on my favorite team?\n",
      "================================\u001b[1m System Message \u001b[0m================================\n",
      "\n",
      "You are a helpful chatbot. You have a built up knowledge store of user preferences from past conversations, \n",
      "so if the user asks something that requires pre-requisite knowledge, before clarifying with the user or asking\n",
      "them for information, check your user preferences to see if that information is present. \n",
      "\n",
      "Similarly, if the user asks about a previous conversation topic, check the summary tool to see if that information is\n",
      "stored before asking the user for more clarity.\n",
      "\n",
      "As a rule of thumb, most of the time if the user is asking about something you don't know, check the memory before asking.\n",
      "\n",
      "==================================\u001b[1m Ai Message \u001b[0m==================================\n",
      "\n",
      "[{'type': 'text', 'text': \"I'll help you get updates on your favorite team, but I need to check which team you're referring to. Let me check your previous preferences.\"}, {'type': 'tool_use', 'name': 'retrieve_user_preferences', 'input': {'query': 'favorite sports team'}, 'id': 'tooluse_bilPJfyYSsij3tjo9m3COw'}]\n",
      "Tool Calls:\n",
      "  retrieve_user_preferences (tooluse_bilPJfyYSsij3tjo9m3COw)\n",
      " Call ID: tooluse_bilPJfyYSsij3tjo9m3COw\n",
      "  Args:\n",
      "    query: favorite sports team\n",
      "=================================\u001b[1m Tool Message \u001b[0m=================================\n",
      "Name: retrieve_user_preferences\n",
      "\n",
      "[{\"content\": \"{\\\"context\\\":\\\"User directly mentioned being a huge fan of Sunderland premier league team and expressed interest in playing soccer but is currently prevented by a knee injury\\\",\\\"preference\\\":\\\"Strong support for Sunderland football team and enjoys playing soccer, wants to be physically active\\\",\\\"categories\\\":[\\\"sports\\\",\\\"football\\\",\\\"soccer\\\",\\\"physical activity\\\"]}\", \"score\": 0.35400036, \"metadata\": {}}, {\"content\": \"{\\\"context\\\":\\\"User explicitly mentioned enjoying pumpkin spice latte and coffee during fall weather\\\",\\\"preference\\\":\\\"Enjoys pumpkin spice latte and hot coffee, especially during cold weather\\\",\\\"categories\\\":[\\\"food\\\",\\\"beverages\\\",\\\"coffee\\\",\\\"seasonal preferences\\\"]}\", \"score\": 0.3535085, \"metadata\": {}}, {\"content\": \"{\\\"context\\\":\\\"User mentioned recently making slow cooker meals\\\",\\\"preference\\\":\\\"Enjoys cooking, particularly slow cooker meals\\\",\\\"categories\\\":[\\\"cooking\\\",\\\"food preparation\\\"]}\", \"score\": 0.3531025, \"metadata\": {}}]\n",
      "==================================\u001b[1m Ai Message \u001b[0m==================================\n",
      "\n",
      "Based on your preferences, I can see you're a big fan of Sunderland football team! Let me get you the latest updates on Sunderland FC:\n",
      "\n",
      "Sunderland AFC currently plays in the EFL Championship (the second tier of English football) after being relegated from the Premier League a few years ago. Recent developments would include their current position in the league table, recent match results, upcoming fixtures, transfer news, and any updates about key players or the manager.\n",
      "\n",
      "For the most current and detailed information about Sunderland's recent performances, standings, and upcoming matches, I'd recommend checking:\n",
      "- The official Sunderland AFC website\n",
      "- BBC Sport's Sunderland page\n",
      "- Sky Sports' Championship coverage\n",
      "- The Sunderland Echo newspaper\n",
      "\n",
      "Would you like me to find some specific information about Sunderland, such as their most recent match result, upcoming fixtures, or current league position?\n"
     ]
    }
   ],
   "source": [
    "chat(\"Hey claude, I'm off to my favorite coffee shop. Can you give me the latest updates on my favorite team?\")"
   ]
  },
  {
   "cell_type": "markdown",
   "id": "46ca86e9-96b5-40cc-a08d-b67fa64941dd",
   "metadata": {},
   "source": [
    "## Conclusion\n",
    "\n",
    "The AgentCore Memory Retrieval tool works great for helping give the chatbot context into previous conversations and user preferences to learn the user and assist them more accurately. \n",
    "\n",
    "This notebook is not a one size fits all approach. You can add tools at different Nodes or provide different system instructions on when to use the long term memory search. If you want automatic adding of preferences or summaries to the LLM context, see the other sample notebook for how to implement pre and post model hooks using a more deterministic approach, such as semantic searching for user preferences every time before the LLM is invoked.\n",
    "\n",
    "For more documentation, please see here: https://docs.aws.amazon.com/bedrock-agentcore/latest/devguide/memory.html"
   ]
  },
  {
   "cell_type": "code",
   "execution_count": null,
   "id": "f5a2937e-67f4-4a6d-a299-61cf2059dcb8",
   "metadata": {},
   "outputs": [],
   "source": []
  }
 ],
 "metadata": {
  "kernelspec": {
   "display_name": "Python 3 (ipykernel)",
   "language": "python",
   "name": "python3"
  },
  "language_info": {
   "codemirror_mode": {
    "name": "ipython",
    "version": 3
   },
   "file_extension": ".py",
   "mimetype": "text/x-python",
   "name": "python",
   "nbconvert_exporter": "python",
   "pygments_lexer": "ipython3",
   "version": "3.10.15"
  }
 },
 "nbformat": 4,
 "nbformat_minor": 5
}
