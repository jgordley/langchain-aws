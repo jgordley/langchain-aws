{
 "cells": [
  {
   "cell_type": "markdown",
   "id": "ac2f5e94-92be-4358-ba5a-33a0009b46d0",
   "metadata": {},
   "source": [
    "# LangGraph Agent with Bedrock AgentCore Memories\n",
    "\n",
    "This notebook walks through creating a simple LangGraph agent with a chatbot (llm) node and a tool calling node. \n",
    "\n",
    "This agent integrates with Amazon Bedrock Agentcore Memory to store messages so that the agent can pick back up where it left off if the conversation is interrupted. \n",
    "\n",
    "Before and after each time the LLM node is invoked, the previous `User` message and the generated `LLM` message are saved to Bedrock Agentcore Memory. If the session is interuptted, the agent detects that no messages are present in the state, then lists the past 10 events from the session from Agentcore Memory. These messages are loaded into the state so the agent can have the previous context.\n",
    "\n",
    "### Pre-requisites for this sample\n",
    "- Amazon Web Services account\n",
    "- Amazon Bedrock Agentcore Memory configured - https://docs.aws.amazon.com/bedrock-agentcore/latest/devguide/memory-getting-started.html#memory-getting-started-create-memory\n",
    "- Amazon Bedrock model access - https://docs.aws.amazon.com/bedrock/latest/userguide/model-access.html\n"
   ]
  },
  {
   "cell_type": "code",
   "execution_count": 1,
   "id": "b51ead6e",
   "metadata": {},
   "outputs": [],
   "source": [
    "from langchain_aws import ChatBedrockConverse\n",
    "\n",
    "from typing import Annotated\n",
    "from typing_extensions import TypedDict\n",
    "\n",
    "from langgraph.graph import StateGraph, START, END\n",
    "from langgraph.graph.message import add_messages\n",
    "\n",
    "from langgraph.checkpoint.memory import InMemorySaver\n",
    "from langgraph.prebuilt import ToolNode, tools_condition\n",
    "\n",
    "from langchain_core.messages import SystemMessage\n",
    "\n",
    "from langchain_aws.memory.bedrock_agentcore import (\n",
    "    store_agentcore_memory_events,\n",
    "    list_agentcore_memory_events,\n",
    ")\n",
    "\n",
    "from bedrock_agentcore.memory import MemoryClient\n",
    "\n",
    "config = {\"configurable\": {\"thread_id\": \"1\"}}\n",
    "memory = InMemorySaver()\n",
    "\n",
    "llm = ChatBedrockConverse(\n",
    "    model=\"us.anthropic.claude-3-7-sonnet-20250219-v1:0\",\n",
    "    max_tokens=5000,\n",
    "    region_name=\"us-west-2\"\n",
    ")"
   ]
  },
  {
   "cell_type": "markdown",
   "id": "826c8a58-b1ec-43e8-8103-fab8ad85e422",
   "metadata": {},
   "source": [
    "## Configure Agentcore Memory\n",
    "\n",
    "AgentCore short-term memories are organized by a Memory ID (overall memory store) and then categorized by Actor ID (i.e which user) and Session ID (which chat session). \n",
    "\n",
    "Long term memories are stored in namespaces. Please see the long term memory search example notebook for more information. By configuring different strategies (i.e. Summarization, User Preferences) these short term memories are processed async as long term memories in the specified namespace."
   ]
  },
  {
   "cell_type": "code",
   "execution_count": 15,
   "id": "e2d189d3",
   "metadata": {},
   "outputs": [],
   "source": [
    "REGION = \"us-west-2\"\n",
    "MEMORY_ID = \"YOUR_MEMORY_ID\"\n",
    "SESSION_ID = \"session-10\"\n",
    "ACTOR_ID = \"user-1\"\n",
    "\n",
    "# Initialize the memory client\n",
    "memory_client = MemoryClient(region_name=REGION)"
   ]
  },
  {
   "cell_type": "code",
   "execution_count": 3,
   "id": "1cfdcff5-19c2-4b68-a371-9cadb70907af",
   "metadata": {},
   "outputs": [],
   "source": [
    "config = {\"configurable\": {\"thread_id\": \"1\"}}\n",
    "memory = InMemorySaver()\n",
    "\n",
    "class State(TypedDict):\n",
    "    messages: Annotated[list, add_messages]"
   ]
  },
  {
   "cell_type": "code",
   "execution_count": 4,
   "id": "189596c2-f725-4c11-bb59-8e58ceed51b2",
   "metadata": {},
   "outputs": [],
   "source": [
    "from langchain_core.tools import tool\n",
    "\n",
    "@tool\n",
    "def multiply(a: int, b: int) -> int:\n",
    "    \"\"\"Multiply two numbers.\"\"\"\n",
    "    return a * b"
   ]
  },
  {
   "cell_type": "markdown",
   "id": "820010bb-6c4e-4911-aeea-e7aa4b496109",
   "metadata": {},
   "source": [
    "## Pre/Post Model Hooks\n",
    "\n",
    "For this implementation, short term memories (message events) are stored before and after model invocation. Before the model runs, the previous user message is saved. After the model runs, the LLM message is saved. \n",
    "\n",
    "If the conversation is just starting or no messages are present in the state, a check is done in Agentcore memory to see if there are any previous events in that actor/session combination. If so, those messages are added as a special System message so that the LLM has the context from the previous interrupted conversation."
   ]
  },
  {
   "cell_type": "code",
   "execution_count": 5,
   "id": "e17dc78a-8f7a-476c-9399-b97f6d9357b6",
   "metadata": {},
   "outputs": [],
   "source": [
    "def pre_model_hook(state):\n",
    "    \"\"\"Store the previous user or tool message before the LLM responds, or load recent history if state is empty\"\"\"\n",
    "    try:\n",
    "        # Check if there are no messages in the state\n",
    "        last_message = state[\"messages\"][-1]\n",
    "        if len(state[\"messages\"]) == 1:\n",
    "            # Load the last 10 events from memory\n",
    "            recent_messages = list_agentcore_memory_events(\n",
    "                memory_client, MEMORY_ID, ACTOR_ID, SESSION_ID, 10\n",
    "            )\n",
    "            print(\"No messages in history, attempting to load from AgentCore memory\")\n",
    "            \n",
    "            if recent_messages:\n",
    "                print(f\"{len(recent_messages)} recent messages found in AgentCore memory, loading them into context.\")\n",
    "\n",
    "                context_content = \"No messages in history, attempting to load from AgentCore memory\"\n",
    "                for i, msg in enumerate(recent_messages, 1):\n",
    "                    # Extract message details\n",
    "                    if hasattr(msg, 'content'):\n",
    "                        content = msg.content\n",
    "                        role = getattr(msg, 'type', 'unknown')\n",
    "                    elif isinstance(msg, dict):\n",
    "                        content = msg.get('content', str(msg))\n",
    "                        role = msg.get('role', msg.get('type', 'unknown'))\n",
    "                    else:\n",
    "                        content = str(msg)\n",
    "                        role = 'unknown'\n",
    "                    \n",
    "                    context_content += f\"\"\"\n",
    "                Message {i}:\n",
    "                Role: {role.capitalize()}\n",
    "                Content: {content}\n",
    "                ---\"\"\"\n",
    "                \n",
    "                context_content += \"\"\"\n",
    "                \n",
    "                === END HISTORY ===\n",
    "                \n",
    "                Please use this context to continue our conversation naturally. You should reference relevant parts of this history when appropriate, but don't explicitly mention that you're loading from memory unless asked.\n",
    "                \"\"\"\n",
    "                # Create a special system message with the previous context\n",
    "                ai_context_msg = SystemMessage(content=context_content)\n",
    "                state['messages'] = [ai_context_msg] + [last_message]\n",
    "                return state\n",
    "            else:\n",
    "                print(\"No past agentcore messages found.\")\n",
    "\n",
    "        # Store the last message (user or tool message) as before\n",
    "        print(f\"Storing event pre-model: {last_message}\")\n",
    "        store_agentcore_memory_events(\n",
    "            memory_client=memory_client,\n",
    "            memory_id=MEMORY_ID,\n",
    "            actor_id=ACTOR_ID,\n",
    "            session_id=SESSION_ID,\n",
    "            messages=[last_message]\n",
    "        )\n",
    "    except Exception as e:\n",
    "        print(f\"Memory operation failed: {e}\")\n",
    "    \n",
    "    return state  # Return state unchanged if messages exist or if there was an error\n",
    "\n",
    "\n",
    "\n",
    "def post_model_hook(state):\n",
    "    \"\"\"Store the LLM response after it's generated\"\"\"\n",
    "    try:\n",
    "        # Get the last message (LLM response)\n",
    "        if state[\"messages\"]:\n",
    "            last_message = state[\"messages\"][-1]\n",
    "            print(f\"Storing event post-model: {last_message}\")\n",
    "            store_agentcore_memory_events(\n",
    "                memory_client=memory_client,\n",
    "                memory_id=MEMORY_ID,\n",
    "                actor_id=ACTOR_ID,\n",
    "                session_id=SESSION_ID,\n",
    "                messages=[last_message]\n",
    "            )\n",
    "    except Exception as e:\n",
    "        print(f\"Memory storage failed: {e}\")\n",
    "\n",
    "\n",
    "def chatbot_with_hooks(state: State):\n",
    "    # Pre-hook: Store the incoming user/tool message OR load recent history if empty\n",
    "    modified_state = pre_model_hook(state)\n",
    "    \n",
    "    # LLM call\n",
    "    response = llm_with_tools.invoke(modified_state[\"messages\"])\n",
    "    \n",
    "    # Create the new state with all messages including the response\n",
    "    new_state = {\"messages\": modified_state[\"messages\"] + [response]}\n",
    "    \n",
    "    # Post-hook: Store the LLM response\n",
    "    post_model_hook(new_state)\n",
    "    \n",
    "    return new_state"
   ]
  },
  {
   "cell_type": "code",
   "execution_count": 6,
   "id": "8022ef56-6f71-4bf8-9bf3-a9ac254f6b7b",
   "metadata": {},
   "outputs": [
    {
     "data": {
      "image/png": "[encoded data removed]",
      "text/plain": [
       "<langgraph.graph.state.CompiledStateGraph object at 0x10bbb7640>"
      ]
     },
     "execution_count": 6,
     "metadata": {},
     "output_type": "execute_result"
    }
   ],
   "source": [
    "# Bind tools to LLM\n",
    "llm_with_tools = llm.bind_tools([multiply])\n",
    "\n",
    "# Build graph\n",
    "graph_builder = StateGraph(State)\n",
    "graph_builder.add_node(\"chatbot\", chatbot_with_hooks)\n",
    "\n",
    "tool_node = ToolNode(tools=[multiply])\n",
    "graph_builder.add_node(\"tools\", tool_node)\n",
    "\n",
    "graph_builder.add_edge(\"tools\", \"chatbot\")\n",
    "graph_builder.add_edge(START, \"chatbot\")\n",
    "graph_builder.add_conditional_edges(\n",
    "    \"chatbot\", tools_condition, {\"tools\": \"tools\", \"__end__\": \"__end__\"}\n",
    ")\n",
    "\n",
    "graph = graph_builder.compile(checkpointer=memory)\n",
    "graph"
   ]
  },
  {
   "cell_type": "code",
   "execution_count": 7,
   "id": "a77465a6-1005-402a-b911-cbde002b6732",
   "metadata": {},
   "outputs": [],
   "source": [
    "# Helper function to invoke the chatbot\n",
    "def chat(user_input: str):\n",
    "    \"\"\"Send a message to the chatbot and display the response\"\"\"\n",
    "    events = graph.stream(\n",
    "        {\"messages\": [{\"role\": \"user\", \"content\": user_input}]},\n",
    "        config,\n",
    "        stream_mode=\"values\",\n",
    "    )\n",
    "    \n",
    "    for event in events:\n",
    "        # Print the last message (which will be the response)\n",
    "        event[\"messages\"][-1].pretty_print()"
   ]
  },
  {
   "cell_type": "code",
   "execution_count": 8,
   "id": "3b02dd91-a304-457b-b308-0bfa9d6ec8f3",
   "metadata": {},
   "outputs": [
    {
     "name": "stdout",
     "output_type": "stream",
     "text": [
      "================================\u001b[1m Human Message \u001b[0m=================================\n",
      "\n",
      "Hello, world!\n",
      "No messages in history, attempting to load from AgentCore memory\n",
      "No past agentcore messages found.\n",
      "Storing event pre-model: content='Hello, world!' additional_kwargs={} response_metadata={} id='68931e20-11b2-423d-bbef-d4a1a7508ec1'\n",
      "Storing event post-model: content=\"Hello! Welcome! How can I assist you today? I have a function available that can multiply two numbers. Would you like me to help you with a multiplication calculation? If so, please provide me with the two numbers you'd like to multiply.\" additional_kwargs={} response_metadata={'ResponseMetadata': {'RequestId': '1280187f-a22d-4ec8-97d6-74b84b42437d', 'HTTPStatusCode': 200, 'HTTPHeaders': {'date': 'Fri, 29 Aug 2025 21:39:47 GMT', 'content-type': 'application/json', 'content-length': '531', 'connection': 'keep-alive', 'x-amzn-requestid': '1280187f-a22d-4ec8-97d6-74b84b42437d'}, 'RetryAttempts': 0}, 'stopReason': 'end_turn', 'metrics': {'latencyMs': [2574]}, 'model_name': 'us.anthropic.claude-3-7-sonnet-20250219-v1:0'} id='run--76244606-9264-45c1-b380-7afe009e2170-0' usage_metadata={'input_tokens': 387, 'output_tokens': 53, 'total_tokens': 440, 'input_token_details': {'cache_creation': 0, 'cache_read': 0}}\n",
      "==================================\u001b[1m Ai Message \u001b[0m==================================\n",
      "\n",
      "Hello! Welcome! How can I assist you today? I have a function available that can multiply two numbers. Would you like me to help you with a multiplication calculation? If so, please provide me with the two numbers you'd like to multiply.\n"
     ]
    }
   ],
   "source": [
    "chat(\"Hello, world!\")"
   ]
  },
  {
   "cell_type": "code",
   "execution_count": 9,
   "id": "80436df7-d4c9-41a2-bff7-37cded3e4aea",
   "metadata": {},
   "outputs": [
    {
     "data": {
      "text/plain": [
       "[AIMessage(content=\"Hello! Welcome! How can I assist you today? I have a function available that can multiply two numbers. Would you like me to help you with a multiplication calculation? If so, please provide me with the two numbers you'd like to multiply.\", additional_kwargs={'event_id': '0000001756503587000#f06f3cff'}, response_metadata={}),\n",
       " HumanMessage(content='Hello, world!', additional_kwargs={'event_id': '0000001756503584000#5a553d5c'}, response_metadata={})]"
      ]
     },
     "execution_count": 9,
     "metadata": {},
     "output_type": "execute_result"
    }
   ],
   "source": [
    "list_agentcore_memory_events(memory_client, MEMORY_ID, ACTOR_ID, SESSION_ID, 10)"
   ]
  },
  {
   "cell_type": "code",
   "execution_count": 10,
   "id": "b8a14359-2fd6-45c2-a7a0-a5977c258dbc",
   "metadata": {},
   "outputs": [
    {
     "name": "stdout",
     "output_type": "stream",
     "text": [
      "================================\u001b[1m Human Message \u001b[0m=================================\n",
      "\n",
      "What's the result of 1337 multiplied by 78?\n",
      "Storing event pre-model: content=\"What's the result of 1337 multiplied by 78?\" additional_kwargs={} response_metadata={} id='d81510bb-c9a8-474a-9264-0d3e87bbd2fd'\n",
      "Storing event post-model: content=[{'type': 'text', 'text': \"I'll calculate the result of 1337 multiplied by 78 for you.\"}, {'type': 'tool_use', 'name': 'multiply', 'input': {'a': 1337, 'b': 78}, 'id': 'tooluse_7ku3y30NS1-Vb-99T2r1Fw'}] additional_kwargs={} response_metadata={'ResponseMetadata': {'RequestId': 'b813c905-eabd-46f7-901d-7f30daead916', 'HTTPStatusCode': 200, 'HTTPHeaders': {'date': 'Fri, 29 Aug 2025 21:40:00 GMT', 'content-type': 'application/json', 'content-length': '456', 'connection': 'keep-alive', 'x-amzn-requestid': 'b813c905-eabd-46f7-901d-7f30daead916'}, 'RetryAttempts': 0}, 'stopReason': 'tool_use', 'metrics': {'latencyMs': [2296]}, 'model_name': 'us.anthropic.claude-3-7-sonnet-20250219-v1:0'} id='run--9ca724ca-8c14-46b3-9236-34a075737ed0-0' tool_calls=[{'name': 'multiply', 'args': {'a': 1337, 'b': 78}, 'id': 'tooluse_7ku3y30NS1-Vb-99T2r1Fw', 'type': 'tool_call'}] usage_metadata={'input_tokens': 458, 'output_tokens': 89, 'total_tokens': 547, 'input_token_details': {'cache_creation': 0, 'cache_read': 0}}\n",
      "==================================\u001b[1m Ai Message \u001b[0m==================================\n",
      "\n",
      "[{'type': 'text', 'text': \"I'll calculate the result of 1337 multiplied by 78 for you.\"}, {'type': 'tool_use', 'name': 'multiply', 'input': {'a': 1337, 'b': 78}, 'id': 'tooluse_7ku3y30NS1-Vb-99T2r1Fw'}]\n",
      "Tool Calls:\n",
      "  multiply (tooluse_7ku3y30NS1-Vb-99T2r1Fw)\n",
      " Call ID: tooluse_7ku3y30NS1-Vb-99T2r1Fw\n",
      "  Args:\n",
      "    a: 1337\n",
      "    b: 78\n",
      "=================================\u001b[1m Tool Message \u001b[0m=================================\n",
      "Name: multiply\n",
      "\n",
      "104286\n",
      "Storing event pre-model: content='104286' name='multiply' id='656db2b6-f80e-42a6-8d96-f9da85d6a4d3' tool_call_id='tooluse_7ku3y30NS1-Vb-99T2r1Fw'\n",
      "Storing event post-model: content='The result of 1337 multiplied by 78 equals 104,286.' additional_kwargs={} response_metadata={'ResponseMetadata': {'RequestId': '494b7af6-139d-4ef9-ae37-e0ff5f12700e', 'HTTPStatusCode': 200, 'HTTPHeaders': {'date': 'Fri, 29 Aug 2025 21:40:01 GMT', 'content-type': 'application/json', 'content-length': '344', 'connection': 'keep-alive', 'x-amzn-requestid': '494b7af6-139d-4ef9-ae37-e0ff5f12700e'}, 'RetryAttempts': 0}, 'stopReason': 'end_turn', 'metrics': {'latencyMs': [996]}, 'model_name': 'us.anthropic.claude-3-7-sonnet-20250219-v1:0'} id='run--ab7051b2-cb8c-4e9f-b931-34b1af1944b7-0' usage_metadata={'input_tokens': 560, 'output_tokens': 23, 'total_tokens': 583, 'input_token_details': {'cache_creation': 0, 'cache_read': 0}}\n",
      "==================================\u001b[1m Ai Message \u001b[0m==================================\n",
      "\n",
      "The result of 1337 multiplied by 78 equals 104,286.\n"
     ]
    }
   ],
   "source": [
    "chat(\"What's the result of 1337 multiplied by 78?\")"
   ]
  },
  {
   "cell_type": "markdown",
   "id": "8e910ec4-9757-4ed8-bdcd-aef2461c25fa",
   "metadata": {},
   "source": [
    "## Clearing and loading the previous memories\n",
    "\n",
    "For this sample, we will clear the in-memory state so that no messages are present. The messages from the conversation will be loaded from Bedrock Agentcore memory so that the agent can continue where the user left off."
   ]
  },
  {
   "cell_type": "code",
   "execution_count": 11,
   "id": "cfd5a83e-c1be-478e-aac0-2f0b6f5297f9",
   "metadata": {},
   "outputs": [],
   "source": [
    "def clear_memory(memory, thread_id: str) -> None:\n",
    "    \"\"\" Clear the memory for a given thread_id. \"\"\"\n",
    "    try:\n",
    "        # If it's an InMemorySaver (which MemorySaver is an alias for),\n",
    "        # we can directly clear the storage and writes\n",
    "        if hasattr(memory, 'storage') and hasattr(memory, 'writes'):\n",
    "            # Clear all checkpoints for this thread_id (all namespaces)\n",
    "            memory.storage.pop(thread_id, None)\n",
    "\n",
    "            # Clear all writes for this thread_id (for all namespaces)\n",
    "            keys_to_remove = [key for key in memory.writes.keys() if key[0] == thread_id]\n",
    "            for key in keys_to_remove:\n",
    "                memory.writes.pop(key, None)\n",
    "\n",
    "            print(f\"Memory cleared for thread_id: {thread_id}\")\n",
    "            return\n",
    "\n",
    "    except Exception as e:\n",
    "        print(f\"Error clearing InMemorySaver storage for thread_id {thread_id}: {e}\")"
   ]
  },
  {
   "cell_type": "code",
   "execution_count": 12,
   "id": "011f536e-f9bc-4a18-be8a-39d758e003e6",
   "metadata": {},
   "outputs": [
    {
     "name": "stdout",
     "output_type": "stream",
     "text": [
      "Thread ID: 1\n",
      "✅ No conversation state found - memory is clear!\n"
     ]
    }
   ],
   "source": [
    "# Clear the in-memory messages\n",
    "thread_id = config.get(\"configurable\").get(\"thread_id\")\n",
    "print(f\"Thread ID: {thread_id}\")\n",
    "memory.delete_thread(config.get(\"configurable\").get(\"thread_id\"))\n",
    "\n",
    "state = graph.get_state(config)\n",
    "        \n",
    "if state and state.values and 'messages' in state.values:\n",
    "    messages = state.values['messages']\n",
    "    print(f\"📝 Found {len(messages)} messages in conversation state:\")\n",
    "    for i, msg in enumerate(messages):\n",
    "        print(f\"  {i+1}. {msg.type}: {msg.content[:100]}...\")\n",
    "else:\n",
    "    print(\"✅ No conversation state found - memory is clear!\")"
   ]
  },
  {
   "cell_type": "code",
   "execution_count": 13,
   "id": "c99a2c72-d83f-4746-b0ee-bb902017f466",
   "metadata": {},
   "outputs": [
    {
     "name": "stdout",
     "output_type": "stream",
     "text": [
      "================================\u001b[1m Human Message \u001b[0m=================================\n",
      "\n",
      "What numbers was I multiplying earlier?\n",
      "No messages in history, attempting to load from AgentCore memory\n",
      "6 recent messages found in AgentCore memory, loading them into context.\n",
      "Storing event post-model: content='Based on our earlier conversation, you were asking about multiplying 1337 by 78. I calculated that for you, and the result was 104,286.' additional_kwargs={} response_metadata={'ResponseMetadata': {'RequestId': 'b2504f9f-0c3b-494d-b478-41cc44bca118', 'HTTPStatusCode': 200, 'HTTPHeaders': {'date': 'Fri, 29 Aug 2025 21:40:12 GMT', 'content-type': 'application/json', 'content-length': '429', 'connection': 'keep-alive', 'x-amzn-requestid': 'b2504f9f-0c3b-494d-b478-41cc44bca118'}, 'RetryAttempts': 0}, 'stopReason': 'end_turn', 'metrics': {'latencyMs': [1470]}, 'model_name': 'us.anthropic.claude-3-7-sonnet-20250219-v1:0'} id='run--8f0bb0ac-588a-479d-aaa9-7392329cb1b6-0' usage_metadata={'input_tokens': 675, 'output_tokens': 38, 'total_tokens': 713, 'input_token_details': {'cache_creation': 0, 'cache_read': 0}}\n",
      "==================================\u001b[1m Ai Message \u001b[0m==================================\n",
      "\n",
      "Based on our earlier conversation, you were asking about multiplying 1337 by 78. I calculated that for you, and the result was 104,286.\n"
     ]
    }
   ],
   "source": [
    "chat(\"What numbers was I multiplying earlier?\")"
   ]
  },
  {
   "cell_type": "code",
   "execution_count": 14,
   "id": "2e8d9f1e-7ac0-4099-994b-49da28f405e0",
   "metadata": {},
   "outputs": [
    {
     "data": {
      "text/plain": [
       "[HumanMessage(content='What numbers was I multiplying earlier?', additional_kwargs={}, response_metadata={}, id='012b3c53-725c-4588-a0d4-46489bf80fdf'),\n",
       " SystemMessage(content=\"No messages in history, attempting to load from AgentCore memory\\n                Message 1:\\n                Role: Ai\\n                Content: The result of 1337 multiplied by 78 equals 104,286.\\n                ---\\n                Message 2:\\n                Role: Ai\\n                Content: I'll calculate the result of 1337 multiplied by 78 for you.\\n                ---\\n                Message 3:\\n                Role: Tool\\n                Content: 104286\\n                ---\\n                Message 4:\\n                Role: Human\\n                Content: What's the result of 1337 multiplied by 78?\\n                ---\\n                Message 5:\\n                Role: Ai\\n                Content: Hello! Welcome! How can I assist you today? I have a function available that can multiply two numbers. Would you like me to help you with a multiplication calculation? If so, please provide me with the two numbers you'd like to multiply.\\n                ---\\n                Message 6:\\n                Role: Human\\n                Content: Hello, world!\\n                ---\\n                \\n                === END HISTORY ===\\n                \\n                Please use this context to continue our conversation naturally. You should reference relevant parts of this history when appropriate, but don't explicitly mention that you're loading from memory unless asked.\\n                \", additional_kwargs={}, response_metadata={}, id='07cc8cda-0e33-4a83-88eb-3d429444b283'),\n",
       " AIMessage(content='Based on our earlier conversation, you were asking about multiplying 1337 by 78. I calculated that for you, and the result was 104,286.', additional_kwargs={}, response_metadata={'ResponseMetadata': {'RequestId': 'b2504f9f-0c3b-494d-b478-41cc44bca118', 'HTTPStatusCode': 200, 'HTTPHeaders': {'date': 'Fri, 29 Aug 2025 21:40:12 GMT', 'content-type': 'application/json', 'content-length': '429', 'connection': 'keep-alive', 'x-amzn-requestid': 'b2504f9f-0c3b-494d-b478-41cc44bca118'}, 'RetryAttempts': 0}, 'stopReason': 'end_turn', 'metrics': {'latencyMs': [1470]}, 'model_name': 'us.anthropic.claude-3-7-sonnet-20250219-v1:0'}, id='run--8f0bb0ac-588a-479d-aaa9-7392329cb1b6-0', usage_metadata={'input_tokens': 675, 'output_tokens': 38, 'total_tokens': 713, 'input_token_details': {'cache_creation': 0, 'cache_read': 0}})]"
      ]
     },
     "execution_count": 14,
     "metadata": {},
     "output_type": "execute_result"
    }
   ],
   "source": [
    "state = graph.get_state(config)\n",
    "state.values[\"messages\"]"
   ]
  },
  {
   "cell_type": "markdown",
   "id": "1cfe5d85-b047-4143-a57c-93f7de7ba3d2",
   "metadata": {},
   "source": [
    "## Conclusion\n",
    "As you can see, Bedrock Agentcore memories can be saved and loaded easily using the short term memory API and the helper functions implemented in hooks. \n",
    "\n",
    "This is not a one-size fits all approach and developers can utilize the storing/listing/searching memory functionalities in their own node, pre/post model hooks, or as tools themselves. Check out the other examples for various implementations."
   ]
  },
  {
   "cell_type": "code",
   "execution_count": null,
   "id": "a7b3aca3-9308-4524-bd64-df6262a8831d",
   "metadata": {},
   "outputs": [],
   "source": []
  }
 ],
 "metadata": {
  "kernelspec": {
   "display_name": "Python 3 (ipykernel)",
   "language": "python",
   "name": "python3"
  },
  "language_info": {
   "codemirror_mode": {
    "name": "ipython",
    "version": 3
   },
   "file_extension": ".py",
   "mimetype": "text/x-python",
   "name": "python",
   "nbconvert_exporter": "python",
   "pygments_lexer": "ipython3",
   "version": "3.10.15"
  }
 },
 "nbformat": 4,
 "nbformat_minor": 5
}
